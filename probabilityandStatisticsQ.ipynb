{
  "nbformat": 4,
  "nbformat_minor": 0,
  "metadata": {
    "colab": {
      "provenance": [],
      "authorship_tag": "ABX9TyOxTrfyUCgNtRBpBPAHvtEt",
      "include_colab_link": true
    },
    "kernelspec": {
      "name": "python3",
      "display_name": "Python 3"
    },
    "language_info": {
      "name": "python"
    }
  },
  "cells": [
    {
      "cell_type": "markdown",
      "metadata": {
        "id": "view-in-github",
        "colab_type": "text"
      },
      "source": [
        "<a href=\"https://colab.research.google.com/github/Ali-Radi/lab1/blob/main/probabilityandStatisticsQ.ipynb\" target=\"_parent\"><img src=\"https://colab.research.google.com/assets/colab-badge.svg\" alt=\"Open In Colab\"/></a>"
      ]
    },
    {
      "cell_type": "code",
      "source": [
        "import numpy as np"
      ],
      "metadata": {
        "id": "9W28uSfbJJ-8"
      },
      "execution_count": 1,
      "outputs": []
    },
    {
      "cell_type": "code",
      "execution_count": 2,
      "metadata": {
        "colab": {
          "base_uri": "https://localhost:8080/"
        },
        "id": "cdEWxrFcIn86",
        "outputId": "79292639-77a3-4193-a6b3-e3fa71250225"
      },
      "outputs": [
        {
          "output_type": "stream",
          "name": "stdout",
          "text": [
            "manual:  20.5\n",
            "numpy:  20.5\n"
          ]
        }
      ],
      "source": [
        "# mean\n",
        "ages = [18, 21, 20, 19, 22, 23, 20, 21, 22, 19]\n",
        "total = 0\n",
        "for age in ages:\n",
        "    total += age\n",
        "mean = total / len(ages)\n",
        "print('manual: ',mean)\n",
        "print('numpy: ',np.mean(ages))"
      ]
    },
    {
      "cell_type": "code",
      "source": [
        "#Median\n",
        "random_integers = np.random.randint(10, 50, 15)\n",
        "\n",
        "print(np.median(random_integers))"
      ],
      "metadata": {
        "colab": {
          "base_uri": "https://localhost:8080/"
        },
        "id": "enHZ7jd8Jekt",
        "outputId": "e752ae48-7f1b-44be-d49b-8337f097b653"
      },
      "execution_count": 3,
      "outputs": [
        {
          "output_type": "stream",
          "name": "stdout",
          "text": [
            "39.0\n"
          ]
        }
      ]
    },
    {
      "cell_type": "code",
      "source": [
        "#Range and Data Spread\n",
        "max  = random_integers[0]\n",
        "for i in random_integers:\n",
        "    if i > max:\n",
        "        max = i\n",
        "print(max)\n",
        "print(np.max(random_integers))\n",
        "min = random_integers[0]\n",
        "for i in random_integers:\n",
        "    if i < min:\n",
        "        min = i\n",
        "print(min)\n",
        "print(np.min(random_integers))\n",
        "# Range (max − min)\n",
        "range = max - min\n",
        "print(range)"
      ],
      "metadata": {
        "colab": {
          "base_uri": "https://localhost:8080/"
        },
        "id": "6sdfzZwUKBMW",
        "outputId": "9425a095-917e-40ce-ffd8-a641acd731cb"
      },
      "execution_count": 4,
      "outputs": [
        {
          "output_type": "stream",
          "name": "stdout",
          "text": [
            "46\n",
            "46\n",
            "14\n",
            "14\n",
            "32\n"
          ]
        }
      ]
    },
    {
      "cell_type": "code",
      "source": [
        "#Variance & Standard Deviation\n",
        "data = [5, 7, 3, 7, 9, 10, 15, 7]\n",
        "mean = sum(data) / len(data)\n",
        "variance = sum((x - mean) ** 2 for x in data) / (len(data) - 1)\n",
        "std_deviation = variance ** 0.5\n",
        "\n",
        "print('manual variance: ', variance)\n",
        "print('manual standard deviation: ', std_deviation)\n",
        "print('numpy variance: ', np.var(data))\n",
        "print('numpy standard deviation: ', np.std(data))"
      ],
      "metadata": {
        "colab": {
          "base_uri": "https://localhost:8080/"
        },
        "id": "8wFz7fldLVQv",
        "outputId": "ca0ccb13-da17-419a-fac7-144fd7bd0d3c"
      },
      "execution_count": 5,
      "outputs": [
        {
          "output_type": "stream",
          "name": "stdout",
          "text": [
            "manual variance:  12.982142857142858\n",
            "manual standard deviation:  3.6030740843261686\n",
            "numpy variance:  11.359375\n",
            "numpy standard deviation:  3.370367190678191\n"
          ]
        }
      ]
    },
    {
      "cell_type": "code",
      "source": [
        "#Quartiles & IQR\n",
        "data = [5, 7, 3, 7, 9, 10, 15, 7]\n",
        "q1 = np.percentile(data, 25)\n",
        "q2 = np.percentile(data, 50)\n",
        "q3 = np.percentile(data, 75)\n",
        "iqr = q3 - q1\n",
        "print('Q1: ', q1)\n",
        "print('Q2: ', q2)\n",
        "print('Q3: ', q3)\n",
        "print('IQR: ', iqr)\n",
        "\n"
      ],
      "metadata": {
        "colab": {
          "base_uri": "https://localhost:8080/"
        },
        "id": "U7HfcP7dMzL-",
        "outputId": "74bfc9ba-ed17-48d5-c288-16f08bd8b5e2"
      },
      "execution_count": 6,
      "outputs": [
        {
          "output_type": "stream",
          "name": "stdout",
          "text": [
            "Q1:  6.5\n",
            "Q2:  7.0\n",
            "Q3:  9.25\n",
            "IQR:  2.75\n"
          ]
        }
      ]
    }
  ]
}