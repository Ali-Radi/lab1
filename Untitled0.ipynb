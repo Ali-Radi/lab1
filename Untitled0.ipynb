{
  "nbformat": 4,
  "nbformat_minor": 0,
  "metadata": {
    "colab": {
      "provenance": [],
      "authorship_tag": "ABX9TyP3bygA26tozggmxibB/peK",
      "include_colab_link": true
    },
    "kernelspec": {
      "name": "python3",
      "display_name": "Python 3"
    },
    "language_info": {
      "name": "python"
    }
  },
  "cells": [
    {
      "cell_type": "markdown",
      "metadata": {
        "id": "view-in-github",
        "colab_type": "text"
      },
      "source": [
        "<a href=\"https://colab.research.google.com/github/Ali-Radi/lab1/blob/main/Untitled0.ipynb\" target=\"_parent\"><img src=\"https://colab.research.google.com/assets/colab-badge.svg\" alt=\"Open In Colab\"/></a>"
      ]
    },
    {
      "cell_type": "code",
      "source": [
        "num1 = 3\n",
        "num2 = 4\n",
        "num3 = 5\n",
        "print(num1 + num2)\n",
        "print(num3 - num1)\n",
        "print(num1*num2 + num3)\n",
        "print(num1*(num2+num3))\n",
        "print(num3 / num1)\n",
        "print(num3 // num1)\n",
        "print(num3 % num1)\n",
        "print(num1 = 3.0)\n",
        "print(num2 = 4.0)\n",
        "print(num3 = 5.0)\n",
        "print(num1 + num2)\n",
        "print(num3 - num1)\n",
        "print(num1*num2 + num3)\n",
        "print(num1*(num2+num3))\n",
        "print(num3 / num1)\n",
        "print(num3 // num1)\n",
        "print(num3 % num1)"
      ],
      "metadata": {
        "colab": {
          "base_uri": "https://localhost:8080/"
        },
        "id": "LNvoeQQnllp7",
        "outputId": "4a31b4e3-1f22-4a4f-fbab-7163880305cb"
      },
      "execution_count": 24,
      "outputs": [
        {
          "output_type": "execute_result",
          "data": {
            "text/plain": [
              "2.0"
            ]
          },
          "metadata": {},
          "execution_count": 24
        }
      ]
    },
    {
      "cell_type": "code",
      "source": [
        "x,y,z,g = 1,2,3,4\n",
        "\n",
        "print(x+y*z/g)\n",
        "print(y**z)"
      ],
      "metadata": {
        "colab": {
          "base_uri": "https://localhost:8080/"
        },
        "id": "24fjCYnxnkUi",
        "outputId": "233b72a3-6b3d-4498-a71c-8be9c59c63ea"
      },
      "execution_count": 25,
      "outputs": [
        {
          "output_type": "stream",
          "name": "stdout",
          "text": [
            "2.5\n",
            "8\n"
          ]
        }
      ]
    },
    {
      "cell_type": "code",
      "source": [
        "a,b,c,num = 'python','is','times fun language', ' 1000 '\n",
        "str_ab = a+b+num +c\n",
        "str_a10 = 10*a\n",
        "print(str_ab)\n",
        "print(str_a10)"
      ],
      "metadata": {
        "colab": {
          "base_uri": "https://localhost:8080/"
        },
        "id": "wja8QXi7qc35",
        "outputId": "6e794e93-2797-45e9-8419-b4c1bf77ffe3"
      },
      "execution_count": 30,
      "outputs": [
        {
          "output_type": "stream",
          "name": "stdout",
          "text": [
            "pythonis 1000 times fun language\n",
            "pythonpythonpythonpythonpythonpythonpythonpythonpythonpython\n"
          ]
        }
      ]
    },
    {
      "cell_type": "code",
      "source": [
        "# odd or even\n",
        "number = int(input('enter a number'))\n",
        "if number%2==0:\n",
        "  print('even')\n",
        "else:\n",
        "  print('odd')"
      ],
      "metadata": {
        "colab": {
          "base_uri": "https://localhost:8080/"
        },
        "id": "Uax73HtosVam",
        "outputId": "cc0f4cc8-9db1-4064-a135-df232e56f97c"
      },
      "execution_count": 31,
      "outputs": [
        {
          "output_type": "stream",
          "name": "stdout",
          "text": [
            "enter a number9\n",
            "odd\n"
          ]
        }
      ]
    },
    {
      "cell_type": "code",
      "source": [
        "#pass or fail\n",
        "score = int(input('enter your score'))\n",
        "if score >= 50:\n",
        "  print('pass')\n",
        "else:\n",
        "  print('fail')"
      ],
      "metadata": {
        "colab": {
          "base_uri": "https://localhost:8080/"
        },
        "id": "6ExWccKps__Q",
        "outputId": "b878a52a-ce97-4c7d-9e65-97c083ccb2f2"
      },
      "execution_count": 32,
      "outputs": [
        {
          "output_type": "stream",
          "name": "stdout",
          "text": [
            "enter your score89\n",
            "pass\n"
          ]
        }
      ]
    },
    {
      "cell_type": "code",
      "source": [
        "#Largest of 3 numbers\n",
        "list = []\n",
        "for i in range(3):\n",
        "  list.append(int(input()))\n",
        "max = list[0]\n",
        "for i in range(3):\n",
        "  if list[i] > max:\n",
        "    max = list[i]\n",
        "print(max)"
      ],
      "metadata": {
        "colab": {
          "base_uri": "https://localhost:8080/"
        },
        "id": "ucIfQftywCNt",
        "outputId": "94c5a079-a614-42a0-f569-95b5fed2d467"
      },
      "execution_count": 40,
      "outputs": [
        {
          "output_type": "stream",
          "name": "stdout",
          "text": [
            "5\n",
            "9\n",
            "3\n",
            "9\n"
          ]
        }
      ]
    },
    {
      "cell_type": "code",
      "source": [
        "#Counting with for\n",
        "for i in range(1,11):\n",
        "  print(i)"
      ],
      "metadata": {
        "colab": {
          "base_uri": "https://localhost:8080/"
        },
        "id": "Mwufkl_PwqM_",
        "outputId": "0ac37840-03e6-4c9e-b624-bc3287c846d7"
      },
      "execution_count": 41,
      "outputs": [
        {
          "output_type": "stream",
          "name": "stdout",
          "text": [
            "1\n",
            "2\n",
            "3\n",
            "4\n",
            "5\n",
            "6\n",
            "7\n",
            "8\n",
            "9\n",
            "10\n"
          ]
        }
      ]
    },
    {
      "cell_type": "code",
      "source": [
        "#Grade Calculator\n",
        "grade = int(input('enter your grade'))\n",
        "if grade >= 90:\n",
        "  print('A')\n",
        "elif grade >= 80:\n",
        "  print('B')\n",
        "elif grade >= 70:\n",
        "  print('C')\n",
        "elif grade >= 60:\n",
        "  print('D')"
      ],
      "metadata": {
        "colab": {
          "base_uri": "https://localhost:8080/"
        },
        "id": "cKsmK1oyw0Uo",
        "outputId": "904564c4-2913-4a87-e2bf-a78db937e80f"
      },
      "execution_count": 42,
      "outputs": [
        {
          "output_type": "stream",
          "name": "stdout",
          "text": [
            "enter your grade88\n",
            "B\n"
          ]
        }
      ]
    },
    {
      "cell_type": "code",
      "source": [
        "#Multiplication Table\n",
        "num = int(input('enter a number'))\n",
        "for i in range(1,11):\n",
        "  print(num,'x',i,'=',num*i)"
      ],
      "metadata": {
        "colab": {
          "base_uri": "https://localhost:8080/"
        },
        "id": "oPqHO2djxYkf",
        "outputId": "68d0bb9a-8e08-4a23-e2da-e2685a974594"
      },
      "execution_count": 43,
      "outputs": [
        {
          "output_type": "stream",
          "name": "stdout",
          "text": [
            "enter a number8\n",
            "8 x 1 = 8\n",
            "8 x 2 = 16\n",
            "8 x 3 = 24\n",
            "8 x 4 = 32\n",
            "8 x 5 = 40\n",
            "8 x 6 = 48\n",
            "8 x 7 = 56\n",
            "8 x 8 = 64\n",
            "8 x 9 = 72\n",
            "8 x 10 = 80\n"
          ]
        }
      ]
    },
    {
      "cell_type": "code",
      "source": [
        "#Sum of Even Numbers\n",
        "sum = 0\n",
        "for i in range(1,51):\n",
        "  if i%2==0:\n",
        "    sum += i\n",
        "print(sum)"
      ],
      "metadata": {
        "colab": {
          "base_uri": "https://localhost:8080/"
        },
        "id": "d1fZL_0ExxXv",
        "outputId": "dde950a0-2030-482a-f398-fa36ccf31d76"
      },
      "execution_count": 44,
      "outputs": [
        {
          "output_type": "stream",
          "name": "stdout",
          "text": [
            "650\n"
          ]
        }
      ]
    },
    {
      "cell_type": "code",
      "source": [
        "#Factorial with while\n",
        "num = int(input('enter a number'))\n",
        "fact = 1\n",
        "while num > 0:\n",
        "  fact *= num\n",
        "  num -= 1\n",
        "print(fact)"
      ],
      "metadata": {
        "colab": {
          "base_uri": "https://localhost:8080/"
        },
        "id": "WGshpVa8yFPW",
        "outputId": "df0d86b1-63a6-44d9-d48c-898f0e4ac843"
      },
      "execution_count": 45,
      "outputs": [
        {
          "output_type": "stream",
          "name": "stdout",
          "text": [
            "enter a number5\n",
            "120\n"
          ]
        }
      ]
    },
    {
      "cell_type": "code",
      "source": [],
      "metadata": {
        "id": "q_Nv6bWhyTNO"
      },
      "execution_count": null,
      "outputs": []
    }
  ]
}